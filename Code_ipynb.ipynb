{
 "cells": [
  {
   "cell_type": "code",
   "execution_count": 1,
   "metadata": {},
   "outputs": [],
   "source": [
    "import csv\n",
    "import nltk\n",
    "import sklearn\n",
    "import numpy as np\n",
    "import pandas as pd \n",
    "import matplotlib.pyplot as plt\n",
    "from numpy import mean, absolute, sqrt\n",
    "from sklearn.linear_model import LogisticRegression, LinearRegression\n",
    "from sklearn.tree import DecisionTreeRegressor\n",
    "from sklearn.ensemble import RandomForestRegressor\n",
    "from sklearn.svm import SVR\n",
    "from sklearn.preprocessing import PolynomialFeatures\n",
    "from nltk.corpus import wordnet as wn\n",
    "from sklearn.metrics import mean_squared_error, r2_score, mean_absolute_error\n",
    "from sklearn.model_selection import KFold, cross_val_score"
   ]
  },
  {
   "cell_type": "code",
   "execution_count": 2,
   "metadata": {},
   "outputs": [],
   "source": [
    "# Import datasets\n",
    "\n",
    "class Dataset(object):\n",
    "\n",
    "    def __init__(self):\n",
    "        self.trainset = self.read_dataset(\"train_full.txt\")\n",
    "        self.testset = self.read_dataset(\"test.txt\")\n",
    "\n",
    "    def read_dataset(self, file_path):\n",
    "        with open(file_path, encoding=\"UTF-8\") as file:\n",
    "            fieldnames = ['ID', 'sentence', 'start_index', 'end_index', 'target_word', 'native_annots',\n",
    "                          'nonnative_annots', 'native_complex', 'nonnative_complex', 'gold_label']\n",
    "            reader = csv.DictReader(file, fieldnames=fieldnames, delimiter='\\t')\n",
    "\n",
    "            dataset = [sent for sent in reader]\n",
    "\n",
    "        return dataset"
   ]
  },
  {
   "cell_type": "code",
   "execution_count": 3,
   "metadata": {},
   "outputs": [
    {
     "name": "stdout",
     "output_type": "stream",
     "text": [
      "14002 training - 1764 test\n"
     ]
    }
   ],
   "source": [
    "# Print the length of the two datasets\n",
    "\n",
    "data = Dataset()\n",
    "print(\"{} training - {} test\".format(len(data.trainset), len(data.testset)))"
   ]
  },
  {
   "cell_type": "code",
   "execution_count": 4,
   "metadata": {},
   "outputs": [],
   "source": [
    "# Features extraction\n",
    "\n",
    "avg_word_length = 5.3\n",
    "def extract_features(word):\n",
    "        len_chars = len(word) / avg_word_length\n",
    "        len_tokens = len(word.split(' '))\n",
    "        pos = 0\n",
    "        means = 0\n",
    "        for wor in word.split(' '):\n",
    "            s = [w.pos() for w in wn.synsets(word)]\n",
    "            pos+=len(set(s))\n",
    "            means+=len(s)\n",
    "        #print([len_chars, len_tokens,pos/2,means/10])\n",
    "        return [len_chars, len_tokens,pos/2,means/10]\n",
    "\n",
    "train_X = []\n",
    "train_y = []\n",
    "dev_X = []\n",
    "dev_y = []\n",
    "\n",
    "for sent in data.trainset[:int(len(data.trainset)*0.8)+1]:\n",
    "    train_X.append(extract_features(sent['target_word']))\n",
    "    train_y.append(sent['gold_label'])\n",
    "\n",
    "for sent in data.trainset[int(len(data.trainset)*0.8)+1:]:\n",
    "    dev_X.append(extract_features(sent['target_word']))\n",
    "    dev_y.append(sent['gold_label'])\n",
    "\n",
    "test_X = []\n",
    "test_Y = []\n",
    "\n",
    "for sent in data.testset:\n",
    "    test_X.append(extract_features(sent['target_word']))\n",
    "    test_Y.append(sent['gold_label'])"
   ]
  },
  {
   "cell_type": "code",
   "execution_count": 5,
   "metadata": {
    "scrolled": true
   },
   "outputs": [
    {
     "name": "stdout",
     "output_type": "stream",
     "text": [
      "Coefficients: \n",
      " [0.02981521 0.         0.0004925  0.        ]\n",
      "Mean squared error: 0.032985444974885\n",
      "Coefficient of determination: 0.024454802836227\n",
      "Mean absolute error: 0.114034718159207\n"
     ]
    },
    {
     "name": "stderr",
     "output_type": "stream",
     "text": [
      "C:\\Users\\Lara\\anaconda3\\lib\\site-packages\\sklearn\\utils\\validation.py:63: FutureWarning: Arrays of bytes/strings is being converted to decimal numbers if dtype='numeric'. This behavior is deprecated in 0.24 and will be removed in 1.1 (renaming of 0.26). Please convert your data to numeric values explicitly instead.\n",
      "  return f(*args, **kwargs)\n",
      "C:\\Users\\Lara\\anaconda3\\lib\\site-packages\\sklearn\\utils\\validation.py:63: FutureWarning: Arrays of bytes/strings is being converted to decimal numbers if dtype='numeric'. This behavior is deprecated in 0.24 and will be removed in 1.1 (renaming of 0.26). Please convert your data to numeric values explicitly instead.\n",
      "  return f(*args, **kwargs)\n",
      "C:\\Users\\Lara\\anaconda3\\lib\\site-packages\\sklearn\\utils\\validation.py:63: FutureWarning: Arrays of bytes/strings is being converted to decimal numbers if dtype='numeric'. This behavior is deprecated in 0.24 and will be removed in 1.1 (renaming of 0.26). Please convert your data to numeric values explicitly instead.\n",
      "  return f(*args, **kwargs)\n"
     ]
    }
   ],
   "source": [
    "# Create Simple Linear Regression object\n",
    "line_regr = LinearRegression(fit_intercept=True, normalize='deprecated', copy_X=True, n_jobs=None, positive=True)\n",
    "\n",
    "# Train the model using the training sets\n",
    "line_regr.fit(train_X, train_y)\n",
    "\n",
    "# Make predictions using the testing set\n",
    "pred_y = line_regr.predict(dev_X)\n",
    "\n",
    "# The coefficients\n",
    "print(\"Coefficients: \\n\", line_regr.coef_)\n",
    "# The mean squared error\n",
    "print(\"Mean squared error: %.15f\" % mean_squared_error(dev_y, pred_y))\n",
    "# The coefficient of determination: 1 is perfect prediction\n",
    "print(\"Coefficient of determination: %.15f\" % r2_score(dev_y, pred_y))\n",
    "# The mean absolute error\n",
    "print(\"Mean absolute error: %.15f\" % mean_absolute_error(dev_y, pred_y))"
   ]
  },
  {
   "cell_type": "code",
   "execution_count": 6,
   "metadata": {},
   "outputs": [
    {
     "name": "stdout",
     "output_type": "stream",
     "text": [
      "[0.07430023 0.06892097 0.10242779 ... 0.080172   0.07454648 0.06403422]\n"
     ]
    }
   ],
   "source": [
    "# Predict the test_Y values (The word complexity estimation of the test file)\n",
    "\n",
    "test_Y = line_regr.predict(dev_X)\n",
    "print(test_Y)"
   ]
  },
  {
   "cell_type": "code",
   "execution_count": 7,
   "metadata": {},
   "outputs": [
    {
     "data": {
      "text/plain": [
       "[<matplotlib.lines.Line2D at 0x1c83cd319a0>]"
      ]
     },
     "execution_count": 7,
     "metadata": {},
     "output_type": "execute_result"
    },
    {
     "data": {
      "image/png": "[encoded data removed]",
      "text/plain": [
       "<Figure size 432x288 with 1 Axes>"
      ]
     },
     "metadata": {
      "needs_background": "light"
     },
     "output_type": "display_data"
    }
   ],
   "source": [
    "plt.plot(test_Y)"
   ]
  },
  {
   "cell_type": "code",
   "execution_count": 8,
   "metadata": {},
   "outputs": [
    {
     "data": {
      "text/html": [
       "<div>\n",
       "<style scoped>\n",
       "    .dataframe tbody tr th:only-of-type {\n",
       "        vertical-align: middle;\n",
       "    }\n",
       "\n",
       "    .dataframe tbody tr th {\n",
       "        vertical-align: top;\n",
       "    }\n",
       "\n",
       "    .dataframe thead tr th {\n",
       "        text-align: left;\n",
       "    }\n",
       "</style>\n",
       "<table border=\"1\" class=\"dataframe\">\n",
       "  <thead>\n",
       "    <tr>\n",
       "      <th></th>\n",
       "      <th>ID</th>\n",
       "      <th>Label</th>\n",
       "    </tr>\n",
       "  </thead>\n",
       "  <tbody>\n",
       "    <tr>\n",
       "      <th>0</th>\n",
       "      <td>[14003, 14004, 14005, 14006, 14007, 14008, 140...</td>\n",
       "      <td>[0.07430023316391896, 0.0689209733316018, 0.10...</td>\n",
       "    </tr>\n",
       "  </tbody>\n",
       "</table>\n",
       "</div>"
      ],
      "text/plain": [
       "                                                  ID  \\\n",
       "0  [14003, 14004, 14005, 14006, 14007, 14008, 140...   \n",
       "\n",
       "                                               Label  \n",
       "0  [0.07430023316391896, 0.0689209733316018, 0.10...  "
      ]
     },
     "execution_count": 8,
     "metadata": {},
     "output_type": "execute_result"
    }
   ],
   "source": [
    "# Create data frame containes test_Y results \n",
    "datatest = pd.read_csv(\"test.csv\")\n",
    "Xtest = datatest.iloc[:, 0].values\n",
    "new_data = [[Xtest[:], test_Y[:]]]\n",
    "# Create the pandas DataFrame\n",
    "df = pd.DataFrame(new_data, columns = [['ID','Label']])  \n",
    "# print dataframe.\n",
    "df"
   ]
  },
  {
   "cell_type": "code",
   "execution_count": 9,
   "metadata": {},
   "outputs": [],
   "source": [
    "# Save the results in the submission file\n",
    "\n",
    "sub_file = pd.read_csv('submission.csv')\n",
    "sub_file\n",
    "label_result=pd.DataFrame(sub_file)\n",
    "label_result['Label']=pd.Series(test_Y)\n",
    "sub_file\n",
    "label_result.to_csv('LinearRegression.csv')"
   ]
  },
  {
   "cell_type": "code",
   "execution_count": 10,
   "metadata": {
    "scrolled": true
   },
   "outputs": [
    {
     "name": "stdout",
     "output_type": "stream",
     "text": [
      "Mean squared error: 0.031460897774998\n",
      "Coefficient of determination: 0.069543316871184\n",
      "Mean absolute error: 0.077516271892923\n"
     ]
    },
    {
     "name": "stderr",
     "output_type": "stream",
     "text": [
      "C:\\Users\\Lara\\anaconda3\\lib\\site-packages\\sklearn\\utils\\validation.py:63: FutureWarning: Arrays of bytes/strings is being converted to decimal numbers if dtype='numeric'. This behavior is deprecated in 0.24 and will be removed in 1.1 (renaming of 0.26). Please convert your data to numeric values explicitly instead.\n",
      "  return f(*args, **kwargs)\n",
      "C:\\Users\\Lara\\anaconda3\\lib\\site-packages\\sklearn\\utils\\validation.py:63: FutureWarning: Arrays of bytes/strings is being converted to decimal numbers if dtype='numeric'. This behavior is deprecated in 0.24 and will be removed in 1.1 (renaming of 0.26). Please convert your data to numeric values explicitly instead.\n",
      "  return f(*args, **kwargs)\n",
      "C:\\Users\\Lara\\anaconda3\\lib\\site-packages\\sklearn\\utils\\validation.py:63: FutureWarning: Arrays of bytes/strings is being converted to decimal numbers if dtype='numeric'. This behavior is deprecated in 0.24 and will be removed in 1.1 (renaming of 0.26). Please convert your data to numeric values explicitly instead.\n",
      "  return f(*args, **kwargs)\n"
     ]
    }
   ],
   "source": [
    "# Create Support Vector Regression object\n",
    "svr_regr = SVR(kernel = 'rbf', epsilon = 0.0005, gamma=500.0)\n",
    "\n",
    "# Train the model using the training sets\n",
    "svr_regr.fit(train_X, train_y)\n",
    "\n",
    "# Make predictions using the testing set\n",
    "pred_y = svr_regr.predict(dev_X)\n",
    "\n",
    "# The mean squared error\n",
    "print(\"Mean squared error: %.15f\" % mean_squared_error(dev_y, pred_y))\n",
    "# The coefficient of determination: 1 is perfect prediction\n",
    "print(\"Coefficient of determination: %.15f\" % r2_score(dev_y, pred_y))\n",
    "# The mean absolute error\n",
    "print(\"Mean absolute error: %.15f\" % mean_absolute_error(dev_y, pred_y))"
   ]
  },
  {
   "cell_type": "code",
   "execution_count": 11,
   "metadata": {},
   "outputs": [
    {
     "name": "stdout",
     "output_type": "stream",
     "text": [
      "[0.00066895 0.0010499  0.00066321 ... 0.00024199 0.00061503 0.00011056]\n"
     ]
    }
   ],
   "source": [
    "test_Y = svr_regr.predict(dev_X)\n",
    "print(test_Y)"
   ]
  },
  {
   "cell_type": "code",
   "execution_count": 12,
   "metadata": {},
   "outputs": [
    {
     "data": {
      "text/plain": [
       "[<matplotlib.lines.Line2D at 0x1c83df16ca0>]"
      ]
     },
     "execution_count": 12,
     "metadata": {},
     "output_type": "execute_result"
    },
    {
     "data": {
      "image/png": "[encoded data removed]",
      "text/plain": [
       "<Figure size 432x288 with 1 Axes>"
      ]
     },
     "metadata": {
      "needs_background": "light"
     },
     "output_type": "display_data"
    }
   ],
   "source": [
    "plt.plot(test_Y)"
   ]
  },
  {
   "cell_type": "code",
   "execution_count": 13,
   "metadata": {},
   "outputs": [
    {
     "data": {
      "text/html": [
       "<div>\n",
       "<style scoped>\n",
       "    .dataframe tbody tr th:only-of-type {\n",
       "        vertical-align: middle;\n",
       "    }\n",
       "\n",
       "    .dataframe tbody tr th {\n",
       "        vertical-align: top;\n",
       "    }\n",
       "\n",
       "    .dataframe thead tr th {\n",
       "        text-align: left;\n",
       "    }\n",
       "</style>\n",
       "<table border=\"1\" class=\"dataframe\">\n",
       "  <thead>\n",
       "    <tr>\n",
       "      <th></th>\n",
       "      <th>ID</th>\n",
       "      <th>Label</th>\n",
       "    </tr>\n",
       "  </thead>\n",
       "  <tbody>\n",
       "    <tr>\n",
       "      <th>0</th>\n",
       "      <td>[14003, 14004, 14005, 14006, 14007, 14008, 140...</td>\n",
       "      <td>[0.0006689533011485227, 0.001049904502472776, ...</td>\n",
       "    </tr>\n",
       "  </tbody>\n",
       "</table>\n",
       "</div>"
      ],
      "text/plain": [
       "                                                  ID  \\\n",
       "0  [14003, 14004, 14005, 14006, 14007, 14008, 140...   \n",
       "\n",
       "                                               Label  \n",
       "0  [0.0006689533011485227, 0.001049904502472776, ...  "
      ]
     },
     "execution_count": 13,
     "metadata": {},
     "output_type": "execute_result"
    }
   ],
   "source": [
    "datatest = pd.read_csv(\"test.csv\")\n",
    "Xtest = datatest.iloc[:, 0].values\n",
    "new_data = [[Xtest[:], test_Y[:]]] \n",
    "# Create the pandas DataFrame\n",
    "df = pd.DataFrame(new_data, columns = [['ID','Label']])  \n",
    "# print dataframe.\n",
    "df"
   ]
  },
  {
   "cell_type": "code",
   "execution_count": 14,
   "metadata": {},
   "outputs": [],
   "source": [
    "# Save the results in the submission file\n",
    "\n",
    "sub_file = pd.read_csv('submission.csv')\n",
    "sub_file\n",
    "label_result=pd.DataFrame(sub_file)\n",
    "label_result['Label']=pd.Series(test_Y)\n",
    "sub_file\n",
    "label_result.to_csv('SupportVectorRegression.csv')"
   ]
  },
  {
   "cell_type": "code",
   "execution_count": 15,
   "metadata": {},
   "outputs": [
    {
     "name": "stdout",
     "output_type": "stream",
     "text": [
      "Mean squared error: 0.027107628319728\n",
      "Coefficient of determination: 0.198291348382718\n",
      "Mean absolute error: 0.096512221993151\n"
     ]
    },
    {
     "name": "stderr",
     "output_type": "stream",
     "text": [
      "C:\\Users\\Lara\\anaconda3\\lib\\site-packages\\sklearn\\utils\\validation.py:63: FutureWarning: Arrays of bytes/strings is being converted to decimal numbers if dtype='numeric'. This behavior is deprecated in 0.24 and will be removed in 1.1 (renaming of 0.26). Please convert your data to numeric values explicitly instead.\n",
      "  return f(*args, **kwargs)\n",
      "C:\\Users\\Lara\\anaconda3\\lib\\site-packages\\sklearn\\utils\\validation.py:63: FutureWarning: Arrays of bytes/strings is being converted to decimal numbers if dtype='numeric'. This behavior is deprecated in 0.24 and will be removed in 1.1 (renaming of 0.26). Please convert your data to numeric values explicitly instead.\n",
      "  return f(*args, **kwargs)\n",
      "C:\\Users\\Lara\\anaconda3\\lib\\site-packages\\sklearn\\utils\\validation.py:63: FutureWarning: Arrays of bytes/strings is being converted to decimal numbers if dtype='numeric'. This behavior is deprecated in 0.24 and will be removed in 1.1 (renaming of 0.26). Please convert your data to numeric values explicitly instead.\n",
      "  return f(*args, **kwargs)\n"
     ]
    }
   ],
   "source": [
    "# Creat Decision Tree Regression object\n",
    "dtr_regr = DecisionTreeRegressor(ccp_alpha=0.000001, random_state=100,\n",
    "                                 min_samples_leaf=40,min_samples_split=10,\n",
    "                                 splitter='best' \n",
    "                                )\n",
    "\n",
    "# Train the model using the training sets\n",
    "dtr_regr.fit(train_X, train_y)\n",
    "\n",
    "# Make predictions using the testing set\n",
    "pred_y = dtr_regr.predict(dev_X)\n",
    "\n",
    "# The mean squared error\n",
    "print(\"Mean squared error: %.15f\" % mean_squared_error(dev_y, pred_y))\n",
    "# The coefficient of determination: 1 is perfect prediction\n",
    "print(\"Coefficient of determination: %.15f\" % r2_score(dev_y, pred_y))\n",
    "# The mean absolute error\n",
    "print(\"Mean absolute error: %.15f\" % mean_absolute_error(dev_y, pred_y))"
   ]
  },
  {
   "cell_type": "code",
   "execution_count": 16,
   "metadata": {},
   "outputs": [
    {
     "name": "stdout",
     "output_type": "stream",
     "text": [
      "[0.01470588 0.00584958 0.16104651 ... 0.11769912 0.02902299 0.00584958]\n"
     ]
    }
   ],
   "source": [
    "test_Y = dtr_regr.predict(dev_X)\n",
    "print(test_Y)"
   ]
  },
  {
   "cell_type": "code",
   "execution_count": 17,
   "metadata": {},
   "outputs": [
    {
     "data": {
      "text/plain": [
       "[<matplotlib.lines.Line2D at 0x1c83dfbd8b0>]"
      ]
     },
     "execution_count": 17,
     "metadata": {},
     "output_type": "execute_result"
    },
    {
     "data": {
      "image/png": "[encoded data removed]",
      "text/plain": [
       "<Figure size 432x288 with 1 Axes>"
      ]
     },
     "metadata": {
      "needs_background": "light"
     },
     "output_type": "display_data"
    }
   ],
   "source": [
    "plt.plot(test_Y)"
   ]
  },
  {
   "cell_type": "code",
   "execution_count": 18,
   "metadata": {},
   "outputs": [
    {
     "data": {
      "text/html": [
       "<div>\n",
       "<style scoped>\n",
       "    .dataframe tbody tr th:only-of-type {\n",
       "        vertical-align: middle;\n",
       "    }\n",
       "\n",
       "    .dataframe tbody tr th {\n",
       "        vertical-align: top;\n",
       "    }\n",
       "\n",
       "    .dataframe thead tr th {\n",
       "        text-align: left;\n",
       "    }\n",
       "</style>\n",
       "<table border=\"1\" class=\"dataframe\">\n",
       "  <thead>\n",
       "    <tr>\n",
       "      <th></th>\n",
       "      <th>ID</th>\n",
       "      <th>Label</th>\n",
       "    </tr>\n",
       "  </thead>\n",
       "  <tbody>\n",
       "    <tr>\n",
       "      <th>0</th>\n",
       "      <td>[14003, 14004, 14005, 14006, 14007, 14008, 140...</td>\n",
       "      <td>[0.01470588235294118, 0.005849582172701943, 0....</td>\n",
       "    </tr>\n",
       "  </tbody>\n",
       "</table>\n",
       "</div>"
      ],
      "text/plain": [
       "                                                  ID  \\\n",
       "0  [14003, 14004, 14005, 14006, 14007, 14008, 140...   \n",
       "\n",
       "                                               Label  \n",
       "0  [0.01470588235294118, 0.005849582172701943, 0....  "
      ]
     },
     "execution_count": 18,
     "metadata": {},
     "output_type": "execute_result"
    }
   ],
   "source": [
    "datatest = pd.read_csv(\"test.csv\")\n",
    "Xtest = datatest.iloc[:, 0].values\n",
    "new_data = [[Xtest[:], test_Y[:]]] \n",
    "# Create the pandas DataFrame\n",
    "df = pd.DataFrame(new_data, columns = [['ID','Label']])  \n",
    "# print dataframe.\n",
    "df"
   ]
  },
  {
   "cell_type": "code",
   "execution_count": 19,
   "metadata": {},
   "outputs": [],
   "source": [
    "# Save the results in the submission file\n",
    "\n",
    "sub_file = pd.read_csv('submission.csv')\n",
    "sub_file\n",
    "label_result=pd.DataFrame(sub_file)\n",
    "label_result['Label']=pd.Series(test_Y)\n",
    "sub_file\n",
    "label_result.to_csv('DecisionTreeRegression.csv')"
   ]
  },
  {
   "cell_type": "code",
   "execution_count": 20,
   "metadata": {},
   "outputs": [
    {
     "name": "stdout",
     "output_type": "stream",
     "text": [
      "Mean squared error: 0.026863758042149\n",
      "Coefficient of determination: 0.205503816736687\n",
      "Mean absolute error: 0.094013194265304\n"
     ]
    },
    {
     "name": "stderr",
     "output_type": "stream",
     "text": [
      "C:\\Users\\Lara\\anaconda3\\lib\\site-packages\\sklearn\\utils\\validation.py:63: FutureWarning: Arrays of bytes/strings is being converted to decimal numbers if dtype='numeric'. This behavior is deprecated in 0.24 and will be removed in 1.1 (renaming of 0.26). Please convert your data to numeric values explicitly instead.\n",
      "  return f(*args, **kwargs)\n",
      "C:\\Users\\Lara\\anaconda3\\lib\\site-packages\\sklearn\\utils\\validation.py:63: FutureWarning: Arrays of bytes/strings is being converted to decimal numbers if dtype='numeric'. This behavior is deprecated in 0.24 and will be removed in 1.1 (renaming of 0.26). Please convert your data to numeric values explicitly instead.\n",
      "  return f(*args, **kwargs)\n",
      "C:\\Users\\Lara\\anaconda3\\lib\\site-packages\\sklearn\\utils\\validation.py:63: FutureWarning: Arrays of bytes/strings is being converted to decimal numbers if dtype='numeric'. This behavior is deprecated in 0.24 and will be removed in 1.1 (renaming of 0.26). Please convert your data to numeric values explicitly instead.\n",
      "  return f(*args, **kwargs)\n"
     ]
    }
   ],
   "source": [
    "# Create Random Forest Regression model object\n",
    "rf_regr = RandomForestRegressor(n_estimators = 7000, random_state = 1000)\n",
    "\n",
    "# Train the model using the training sets\n",
    "rf_regr.fit(train_X, train_y)\n",
    "\n",
    "# Make predictions using the testing set\n",
    "pred_y = rf_regr.predict(dev_X)\n",
    "\n",
    "# The mean squared error\n",
    "print(\"Mean squared error: %.15f\" % mean_squared_error(dev_y, pred_y))\n",
    "# The coefficient of determination: 1 is perfect prediction\n",
    "print(\"Coefficient of determination: %.15f\" % r2_score(dev_y, pred_y))\n",
    "# The mean absolute error\n",
    "print(\"Mean absolute error: %.15f\" % mean_absolute_error(dev_y, pred_y))"
   ]
  },
  {
   "cell_type": "code",
   "execution_count": 21,
   "metadata": {},
   "outputs": [
    {
     "name": "stdout",
     "output_type": "stream",
     "text": [
      "[0.00570309 0.01246955 0.16056757 ... 0.11583532 0.01210848 0.00150901]\n"
     ]
    }
   ],
   "source": [
    "test_Y = rf_regr.predict(dev_X)\n",
    "print(test_Y)"
   ]
  },
  {
   "cell_type": "code",
   "execution_count": 22,
   "metadata": {},
   "outputs": [
    {
     "data": {
      "text/plain": [
       "[<matplotlib.lines.Line2D at 0x1c84a11af40>]"
      ]
     },
     "execution_count": 22,
     "metadata": {},
     "output_type": "execute_result"
    },
    {
     "data": {
      "image/png": "[encoded data removed]",
      "text/plain": [
       "<Figure size 432x288 with 1 Axes>"
      ]
     },
     "metadata": {
      "needs_background": "light"
     },
     "output_type": "display_data"
    }
   ],
   "source": [
    "plt.plot(test_Y)"
   ]
  },
  {
   "cell_type": "code",
   "execution_count": 23,
   "metadata": {},
   "outputs": [
    {
     "data": {
      "text/html": [
       "<div>\n",
       "<style scoped>\n",
       "    .dataframe tbody tr th:only-of-type {\n",
       "        vertical-align: middle;\n",
       "    }\n",
       "\n",
       "    .dataframe tbody tr th {\n",
       "        vertical-align: top;\n",
       "    }\n",
       "\n",
       "    .dataframe thead tr th {\n",
       "        text-align: left;\n",
       "    }\n",
       "</style>\n",
       "<table border=\"1\" class=\"dataframe\">\n",
       "  <thead>\n",
       "    <tr>\n",
       "      <th></th>\n",
       "      <th>ID</th>\n",
       "      <th>Label</th>\n",
       "    </tr>\n",
       "  </thead>\n",
       "  <tbody>\n",
       "    <tr>\n",
       "      <th>0</th>\n",
       "      <td>[14003, 14004, 14005, 14006, 14007, 14008, 140...</td>\n",
       "      <td>[0.005703085913838451, 0.012469553706585335, 0...</td>\n",
       "    </tr>\n",
       "  </tbody>\n",
       "</table>\n",
       "</div>"
      ],
      "text/plain": [
       "                                                  ID  \\\n",
       "0  [14003, 14004, 14005, 14006, 14007, 14008, 140...   \n",
       "\n",
       "                                               Label  \n",
       "0  [0.005703085913838451, 0.012469553706585335, 0...  "
      ]
     },
     "execution_count": 23,
     "metadata": {},
     "output_type": "execute_result"
    }
   ],
   "source": [
    "datatest = pd.read_csv(\"test.csv\")\n",
    "Xtest = datatest.iloc[:, 0].values\n",
    "new_data = [[Xtest[:], test_Y[:]]] \n",
    "# Create the pandas DataFrame\n",
    "df = pd.DataFrame(new_data, columns = [['ID','Label']])  \n",
    "# print dataframe.\n",
    "df"
   ]
  },
  {
   "cell_type": "code",
   "execution_count": 24,
   "metadata": {},
   "outputs": [],
   "source": [
    "# Save the results in the submission file\n",
    "\n",
    "sub_file = pd.read_csv('submission.csv')\n",
    "sub_file\n",
    "label_result=pd.DataFrame(sub_file)\n",
    "label_result['Label']=pd.Series(test_Y)\n",
    "sub_file\n",
    "label_result.to_csv('RandomForestRegression.csv')"
   ]
  },
  {
   "cell_type": "code",
   "execution_count": 25,
   "metadata": {},
   "outputs": [
    {
     "name": "stdout",
     "output_type": "stream",
     "text": [
      "Mean Absolute Error is :   0.1124648496658908\n"
     ]
    }
   ],
   "source": [
    "# Define cross-validation method to use\n",
    "cv = KFold(n_splits=10, random_state=1, shuffle=True)\n",
    "\n",
    "# Use k-fold CV to evaluate model\n",
    "scores = cross_val_score(line_regr, train_X, train_y, scoring='neg_mean_absolute_error',\n",
    "                         cv=cv, n_jobs=-1)\n",
    "\n",
    "# View mean absolute error (MAE)\n",
    "print(\"Mean Absolute Error is :  \", mean(absolute(scores)))\n",
    "\n",
    "# View root mean squared error (RMSE)\n",
    "# print(\"Root Mean Squared Error is :  \", sqrt(mean(absolute(scores))))"
   ]
  },
  {
   "cell_type": "code",
   "execution_count": 26,
   "metadata": {},
   "outputs": [
    {
     "name": "stdout",
     "output_type": "stream",
     "text": [
      "Mean Absolute Error is :   0.076240738170416\n"
     ]
    }
   ],
   "source": [
    "# Define cross-validation method to use\n",
    "cv = KFold(n_splits=10, random_state=1, shuffle=True)\n",
    "\n",
    "# Use k-fold CV to evaluate model\n",
    "scores = cross_val_score(svr_regr, train_X, train_y, scoring='neg_mean_absolute_error',\n",
    "                         cv=cv, n_jobs=-1)\n",
    "\n",
    "# View mean absolute error (MAE)\n",
    "print(\"Mean Absolute Error is :  \", mean(absolute(scores)))\n",
    "\n",
    "# View root mean squared error (RMSE)\n",
    "# print(\"Root Mean Squared Error is :  \", sqrt(mean(absolute(scores))))"
   ]
  },
  {
   "cell_type": "code",
   "execution_count": 27,
   "metadata": {},
   "outputs": [
    {
     "name": "stdout",
     "output_type": "stream",
     "text": [
      "Mean Absolute Error is :   0.09424268189589007\n"
     ]
    }
   ],
   "source": [
    "# Define cross-validation method to use\n",
    "cv = KFold(n_splits=10, random_state=1, shuffle=True)\n",
    "\n",
    "# Use k-fold CV to evaluate model\n",
    "scores = cross_val_score(dtr_regr, train_X, train_y, scoring='neg_mean_absolute_error',\n",
    "                         cv=cv, n_jobs=-1)\n",
    "\n",
    "# View mean absolute error (MAE)\n",
    "print(\"Mean Absolute Error is :  \", mean(absolute(scores)))\n",
    "\n",
    "# View root mean squared error (RMSE)\n",
    "# print(\"Root Mean Squared Error is :  \", sqrt(mean(absolute(scores))))"
   ]
  },
  {
   "cell_type": "code",
   "execution_count": 28,
   "metadata": {},
   "outputs": [
    {
     "name": "stdout",
     "output_type": "stream",
     "text": [
      "Mean Absolute Error is :   0.09166594917062786\n"
     ]
    }
   ],
   "source": [
    "# Define cross-validation method to use\n",
    "cv = KFold(n_splits=5, random_state=1, shuffle=True)\n",
    "\n",
    "# Use k-fold CV to evaluate model\n",
    "scores = cross_val_score(rf_regr, train_X, train_y, scoring='neg_mean_absolute_error',\n",
    "                         cv=cv, n_jobs=-1)\n",
    "\n",
    "# View mean absolute error (MAE)\n",
    "print(\"Mean Absolute Error is :  \", mean(absolute(scores)))\n",
    "\n",
    "# View root mean squared error (RMSE)\n",
    "# print(\"Root Mean Squared Error is :  \", sqrt(mean(absolute(scores))))"
   ]
  }
 ],
 "metadata": {
  "interpreter": {
   "hash": "57baa5815c940fdaff4d14510622de9616cae602444507ba5d0b6727c008cbd6"
  },
  "kernelspec": {
   "display_name": "Python 3 (ipykernel)",
   "language": "python",
   "name": "python3"
  },
  "language_info": {
   "codemirror_mode": {
    "name": "ipython",
    "version": 3
   },
   "file_extension": ".py",
   "mimetype": "text/x-python",
   "name": "python",
   "nbconvert_exporter": "python",
   "pygments_lexer": "ipython3",
   "version": "3.9.7"
  }
 },
 "nbformat": 4,
 "nbformat_minor": 2
}
